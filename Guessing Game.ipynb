{
 "cells": [
  {
   "cell_type": "markdown",
   "id": "8e2e4db2",
   "metadata": {},
   "source": [
    "Imagine you enter a game where the other person picks a number between 1 and 100 (inclusive), and you try to guess the number. \n",
    "\n",
    "- If your guess is incorrect, the other person tells you if your guess was too high or too low. \n",
    "- The person pays you 5 for a correct first guess, and the payment decreases by 1 for each additional guess. \n",
    "- After the sixth incorrect guess, you have to pay them 1, 2, ... until you guess correctly. \n",
    "\n",
    "What is the expected payment (a negative payment implies money is *owed*) and the corresponding expected number of guesses, assuming you guess uniformly between the highest possible number and lowest possible number after each incorrect guess? For example: if the number is 85, and you guess 50, your next guess should be a minimum of 51. You then guess 90, so your maximum guess at this point should be 89."
   ]
  },
  {
   "cell_type": "code",
   "execution_count": 1,
   "id": "7beaed84",
   "metadata": {},
   "outputs": [],
   "source": [
    "import random\n",
    "from statistics import mean"
   ]
  },
  {
   "cell_type": "code",
   "execution_count": 2,
   "id": "7a69aba6",
   "metadata": {},
   "outputs": [],
   "source": [
    "def guesser():\n",
    "    tries = 1\n",
    "    number = random.randint(1, 100)\n",
    "    min_guess = 1\n",
    "    max_guess = 100\n",
    "    guess = random.randint(min_guess, max_guess)\n",
    "    while guess != number:\n",
    "        if guess < number:\n",
    "            min_guess = guess + 1\n",
    "        elif guess > number:\n",
    "            max_guess = guess - 1\n",
    "        guess = random.randint(min_guess, max_guess)\n",
    "        tries += 1\n",
    "    return tries"
   ]
  },
  {
   "cell_type": "code",
   "execution_count": 3,
   "id": "9d54c552",
   "metadata": {},
   "outputs": [
    {
     "name": "stdout",
     "output_type": "stream",
     "text": [
      "Expected number of guesses:  7.480056\n",
      "Expected payment:  -1.480056\n"
     ]
    }
   ],
   "source": [
    "trials = int(1e6)\n",
    "guesses = [None for i in range(trials)]\n",
    "payments = [None for i in range(trials)]\n",
    "cost_per_guess = tuple(range(5, -95, -1))\n",
    "for i in range(trials):\n",
    "    n = guesser()\n",
    "    guesses[i] = n\n",
    "    payments[i] = cost_per_guess[n - 1]\n",
    "    \n",
    "print(\"Expected number of guesses: \", mean(guesses))\n",
    "print(\"Expected payment: \", mean(payments))"
   ]
  },
  {
   "cell_type": "code",
   "execution_count": null,
   "id": "a56844ce",
   "metadata": {},
   "outputs": [],
   "source": []
  }
 ],
 "metadata": {
  "kernelspec": {
   "display_name": "Python 3 (ipykernel)",
   "language": "python",
   "name": "python3"
  },
  "language_info": {
   "codemirror_mode": {
    "name": "ipython",
    "version": 3
   },
   "file_extension": ".py",
   "mimetype": "text/x-python",
   "name": "python",
   "nbconvert_exporter": "python",
   "pygments_lexer": "ipython3",
   "version": "3.10.2"
  }
 },
 "nbformat": 4,
 "nbformat_minor": 5
}
